{
  "cells": [
    {
      "cell_type": "markdown",
      "metadata": {
        "id": "view-in-github",
        "colab_type": "text"
      },
      "source": [
        "<a href=\"https://colab.research.google.com/github/gnaneswar-18/machine-learning/blob/main/LDA.ipynb\" target=\"_parent\"><img src=\"https://colab.research.google.com/assets/colab-badge.svg\" alt=\"Open In Colab\"/></a>"
      ]
    },
    {
      "cell_type": "markdown",
      "metadata": {
        "id": "36G1-u34ZLHy"
      },
      "source": [
        "****Linear Discriminant Analysis (LDA)****"
      ]
    },
    {
      "cell_type": "markdown",
      "metadata": {
        "id": "s79pdb3iZLH1"
      },
      "source": [
        "LDA is a supervised dimensionality reduction and classification technique. Its primary purpose is to find a linear combination of features that best separates two or more classes in a dataset."
      ]
    },
    {
      "cell_type": "code",
      "execution_count": null,
      "metadata": {
        "id": "5t4RvMFTZLH1"
      },
      "outputs": [],
      "source": [
        "import numpy as np\n",
        "import pandas as pd\n",
        "import matplotlib.pyplot as plt"
      ]
    },
    {
      "cell_type": "markdown",
      "metadata": {
        "id": "VztiJvDQZLH2"
      },
      "source": [
        "***Step 1: Data Collection***"
      ]
    },
    {
      "cell_type": "code",
      "execution_count": null,
      "metadata": {
        "colab": {
          "base_uri": "https://localhost:8080/",
          "height": 300
        },
        "id": "WycEdTK2ZLH3",
        "outputId": "68332bf1-c0b5-4b69-e5e9-d5aa147bb0b8"
      },
      "outputs": [
        {
          "output_type": "execute_result",
          "data": {
            "text/plain": [
              "    f1   f2 class\n",
              "0  2.0  3.5     A\n",
              "1  1.5  2.5     A\n",
              "2  3.0  4.0     A\n",
              "3  2.5  3.8     A\n",
              "4  3.5  2.0     B\n",
              "5  4.0  2.7     B\n",
              "6  5.0  3.0     B\n",
              "7  4.5  2.5     B"
            ],
            "text/html": [
              "\n",
              "  <div id=\"df-141067e9-3203-4401-b3d5-3dee86d60b92\" class=\"colab-df-container\">\n",
              "    <div>\n",
              "<style scoped>\n",
              "    .dataframe tbody tr th:only-of-type {\n",
              "        vertical-align: middle;\n",
              "    }\n",
              "\n",
              "    .dataframe tbody tr th {\n",
              "        vertical-align: top;\n",
              "    }\n",
              "\n",
              "    .dataframe thead th {\n",
              "        text-align: right;\n",
              "    }\n",
              "</style>\n",
              "<table border=\"1\" class=\"dataframe\">\n",
              "  <thead>\n",
              "    <tr style=\"text-align: right;\">\n",
              "      <th></th>\n",
              "      <th>f1</th>\n",
              "      <th>f2</th>\n",
              "      <th>class</th>\n",
              "    </tr>\n",
              "  </thead>\n",
              "  <tbody>\n",
              "    <tr>\n",
              "      <th>0</th>\n",
              "      <td>2.0</td>\n",
              "      <td>3.5</td>\n",
              "      <td>A</td>\n",
              "    </tr>\n",
              "    <tr>\n",
              "      <th>1</th>\n",
              "      <td>1.5</td>\n",
              "      <td>2.5</td>\n",
              "      <td>A</td>\n",
              "    </tr>\n",
              "    <tr>\n",
              "      <th>2</th>\n",
              "      <td>3.0</td>\n",
              "      <td>4.0</td>\n",
              "      <td>A</td>\n",
              "    </tr>\n",
              "    <tr>\n",
              "      <th>3</th>\n",
              "      <td>2.5</td>\n",
              "      <td>3.8</td>\n",
              "      <td>A</td>\n",
              "    </tr>\n",
              "    <tr>\n",
              "      <th>4</th>\n",
              "      <td>3.5</td>\n",
              "      <td>2.0</td>\n",
              "      <td>B</td>\n",
              "    </tr>\n",
              "    <tr>\n",
              "      <th>5</th>\n",
              "      <td>4.0</td>\n",
              "      <td>2.7</td>\n",
              "      <td>B</td>\n",
              "    </tr>\n",
              "    <tr>\n",
              "      <th>6</th>\n",
              "      <td>5.0</td>\n",
              "      <td>3.0</td>\n",
              "      <td>B</td>\n",
              "    </tr>\n",
              "    <tr>\n",
              "      <th>7</th>\n",
              "      <td>4.5</td>\n",
              "      <td>2.5</td>\n",
              "      <td>B</td>\n",
              "    </tr>\n",
              "  </tbody>\n",
              "</table>\n",
              "</div>\n",
              "    <div class=\"colab-df-buttons\">\n",
              "\n",
              "  <div class=\"colab-df-container\">\n",
              "    <button class=\"colab-df-convert\" onclick=\"convertToInteractive('df-141067e9-3203-4401-b3d5-3dee86d60b92')\"\n",
              "            title=\"Convert this dataframe to an interactive table.\"\n",
              "            style=\"display:none;\">\n",
              "\n",
              "  <svg xmlns=\"http://www.w3.org/2000/svg\" height=\"24px\" viewBox=\"0 -960 960 960\">\n",
              "    <path d=\"M120-120v-720h720v720H120Zm60-500h600v-160H180v160Zm220 220h160v-160H400v160Zm0 220h160v-160H400v160ZM180-400h160v-160H180v160Zm440 0h160v-160H620v160ZM180-180h160v-160H180v160Zm440 0h160v-160H620v160Z\"/>\n",
              "  </svg>\n",
              "    </button>\n",
              "\n",
              "  <style>\n",
              "    .colab-df-container {\n",
              "      display:flex;\n",
              "      gap: 12px;\n",
              "    }\n",
              "\n",
              "    .colab-df-convert {\n",
              "      background-color: #E8F0FE;\n",
              "      border: none;\n",
              "      border-radius: 50%;\n",
              "      cursor: pointer;\n",
              "      display: none;\n",
              "      fill: #1967D2;\n",
              "      height: 32px;\n",
              "      padding: 0 0 0 0;\n",
              "      width: 32px;\n",
              "    }\n",
              "\n",
              "    .colab-df-convert:hover {\n",
              "      background-color: #E2EBFA;\n",
              "      box-shadow: 0px 1px 2px rgba(60, 64, 67, 0.3), 0px 1px 3px 1px rgba(60, 64, 67, 0.15);\n",
              "      fill: #174EA6;\n",
              "    }\n",
              "\n",
              "    .colab-df-buttons div {\n",
              "      margin-bottom: 4px;\n",
              "    }\n",
              "\n",
              "    [theme=dark] .colab-df-convert {\n",
              "      background-color: #3B4455;\n",
              "      fill: #D2E3FC;\n",
              "    }\n",
              "\n",
              "    [theme=dark] .colab-df-convert:hover {\n",
              "      background-color: #434B5C;\n",
              "      box-shadow: 0px 1px 3px 1px rgba(0, 0, 0, 0.15);\n",
              "      filter: drop-shadow(0px 1px 2px rgba(0, 0, 0, 0.3));\n",
              "      fill: #FFFFFF;\n",
              "    }\n",
              "  </style>\n",
              "\n",
              "    <script>\n",
              "      const buttonEl =\n",
              "        document.querySelector('#df-141067e9-3203-4401-b3d5-3dee86d60b92 button.colab-df-convert');\n",
              "      buttonEl.style.display =\n",
              "        google.colab.kernel.accessAllowed ? 'block' : 'none';\n",
              "\n",
              "      async function convertToInteractive(key) {\n",
              "        const element = document.querySelector('#df-141067e9-3203-4401-b3d5-3dee86d60b92');\n",
              "        const dataTable =\n",
              "          await google.colab.kernel.invokeFunction('convertToInteractive',\n",
              "                                                    [key], {});\n",
              "        if (!dataTable) return;\n",
              "\n",
              "        const docLinkHtml = 'Like what you see? Visit the ' +\n",
              "          '<a target=\"_blank\" href=https://colab.research.google.com/notebooks/data_table.ipynb>data table notebook</a>'\n",
              "          + ' to learn more about interactive tables.';\n",
              "        element.innerHTML = '';\n",
              "        dataTable['output_type'] = 'display_data';\n",
              "        await google.colab.output.renderOutput(dataTable, element);\n",
              "        const docLink = document.createElement('div');\n",
              "        docLink.innerHTML = docLinkHtml;\n",
              "        element.appendChild(docLink);\n",
              "      }\n",
              "    </script>\n",
              "  </div>\n",
              "\n",
              "\n",
              "<div id=\"df-fe5b9273-678d-4f9a-957e-263e1cd77680\">\n",
              "  <button class=\"colab-df-quickchart\" onclick=\"quickchart('df-fe5b9273-678d-4f9a-957e-263e1cd77680')\"\n",
              "            title=\"Suggest charts\"\n",
              "            style=\"display:none;\">\n",
              "\n",
              "<svg xmlns=\"http://www.w3.org/2000/svg\" height=\"24px\"viewBox=\"0 0 24 24\"\n",
              "     width=\"24px\">\n",
              "    <g>\n",
              "        <path d=\"M19 3H5c-1.1 0-2 .9-2 2v14c0 1.1.9 2 2 2h14c1.1 0 2-.9 2-2V5c0-1.1-.9-2-2-2zM9 17H7v-7h2v7zm4 0h-2V7h2v10zm4 0h-2v-4h2v4z\"/>\n",
              "    </g>\n",
              "</svg>\n",
              "  </button>\n",
              "\n",
              "<style>\n",
              "  .colab-df-quickchart {\n",
              "      --bg-color: #E8F0FE;\n",
              "      --fill-color: #1967D2;\n",
              "      --hover-bg-color: #E2EBFA;\n",
              "      --hover-fill-color: #174EA6;\n",
              "      --disabled-fill-color: #AAA;\n",
              "      --disabled-bg-color: #DDD;\n",
              "  }\n",
              "\n",
              "  [theme=dark] .colab-df-quickchart {\n",
              "      --bg-color: #3B4455;\n",
              "      --fill-color: #D2E3FC;\n",
              "      --hover-bg-color: #434B5C;\n",
              "      --hover-fill-color: #FFFFFF;\n",
              "      --disabled-bg-color: #3B4455;\n",
              "      --disabled-fill-color: #666;\n",
              "  }\n",
              "\n",
              "  .colab-df-quickchart {\n",
              "    background-color: var(--bg-color);\n",
              "    border: none;\n",
              "    border-radius: 50%;\n",
              "    cursor: pointer;\n",
              "    display: none;\n",
              "    fill: var(--fill-color);\n",
              "    height: 32px;\n",
              "    padding: 0;\n",
              "    width: 32px;\n",
              "  }\n",
              "\n",
              "  .colab-df-quickchart:hover {\n",
              "    background-color: var(--hover-bg-color);\n",
              "    box-shadow: 0 1px 2px rgba(60, 64, 67, 0.3), 0 1px 3px 1px rgba(60, 64, 67, 0.15);\n",
              "    fill: var(--button-hover-fill-color);\n",
              "  }\n",
              "\n",
              "  .colab-df-quickchart-complete:disabled,\n",
              "  .colab-df-quickchart-complete:disabled:hover {\n",
              "    background-color: var(--disabled-bg-color);\n",
              "    fill: var(--disabled-fill-color);\n",
              "    box-shadow: none;\n",
              "  }\n",
              "\n",
              "  .colab-df-spinner {\n",
              "    border: 2px solid var(--fill-color);\n",
              "    border-color: transparent;\n",
              "    border-bottom-color: var(--fill-color);\n",
              "    animation:\n",
              "      spin 1s steps(1) infinite;\n",
              "  }\n",
              "\n",
              "  @keyframes spin {\n",
              "    0% {\n",
              "      border-color: transparent;\n",
              "      border-bottom-color: var(--fill-color);\n",
              "      border-left-color: var(--fill-color);\n",
              "    }\n",
              "    20% {\n",
              "      border-color: transparent;\n",
              "      border-left-color: var(--fill-color);\n",
              "      border-top-color: var(--fill-color);\n",
              "    }\n",
              "    30% {\n",
              "      border-color: transparent;\n",
              "      border-left-color: var(--fill-color);\n",
              "      border-top-color: var(--fill-color);\n",
              "      border-right-color: var(--fill-color);\n",
              "    }\n",
              "    40% {\n",
              "      border-color: transparent;\n",
              "      border-right-color: var(--fill-color);\n",
              "      border-top-color: var(--fill-color);\n",
              "    }\n",
              "    60% {\n",
              "      border-color: transparent;\n",
              "      border-right-color: var(--fill-color);\n",
              "    }\n",
              "    80% {\n",
              "      border-color: transparent;\n",
              "      border-right-color: var(--fill-color);\n",
              "      border-bottom-color: var(--fill-color);\n",
              "    }\n",
              "    90% {\n",
              "      border-color: transparent;\n",
              "      border-bottom-color: var(--fill-color);\n",
              "    }\n",
              "  }\n",
              "</style>\n",
              "\n",
              "  <script>\n",
              "    async function quickchart(key) {\n",
              "      const quickchartButtonEl =\n",
              "        document.querySelector('#' + key + ' button');\n",
              "      quickchartButtonEl.disabled = true;  // To prevent multiple clicks.\n",
              "      quickchartButtonEl.classList.add('colab-df-spinner');\n",
              "      try {\n",
              "        const charts = await google.colab.kernel.invokeFunction(\n",
              "            'suggestCharts', [key], {});\n",
              "      } catch (error) {\n",
              "        console.error('Error during call to suggestCharts:', error);\n",
              "      }\n",
              "      quickchartButtonEl.classList.remove('colab-df-spinner');\n",
              "      quickchartButtonEl.classList.add('colab-df-quickchart-complete');\n",
              "    }\n",
              "    (() => {\n",
              "      let quickchartButtonEl =\n",
              "        document.querySelector('#df-fe5b9273-678d-4f9a-957e-263e1cd77680 button');\n",
              "      quickchartButtonEl.style.display =\n",
              "        google.colab.kernel.accessAllowed ? 'block' : 'none';\n",
              "    })();\n",
              "  </script>\n",
              "</div>\n",
              "\n",
              "  <div id=\"id_b00b0676-0756-433d-a7de-acd3f7225905\">\n",
              "    <style>\n",
              "      .colab-df-generate {\n",
              "        background-color: #E8F0FE;\n",
              "        border: none;\n",
              "        border-radius: 50%;\n",
              "        cursor: pointer;\n",
              "        display: none;\n",
              "        fill: #1967D2;\n",
              "        height: 32px;\n",
              "        padding: 0 0 0 0;\n",
              "        width: 32px;\n",
              "      }\n",
              "\n",
              "      .colab-df-generate:hover {\n",
              "        background-color: #E2EBFA;\n",
              "        box-shadow: 0px 1px 2px rgba(60, 64, 67, 0.3), 0px 1px 3px 1px rgba(60, 64, 67, 0.15);\n",
              "        fill: #174EA6;\n",
              "      }\n",
              "\n",
              "      [theme=dark] .colab-df-generate {\n",
              "        background-color: #3B4455;\n",
              "        fill: #D2E3FC;\n",
              "      }\n",
              "\n",
              "      [theme=dark] .colab-df-generate:hover {\n",
              "        background-color: #434B5C;\n",
              "        box-shadow: 0px 1px 3px 1px rgba(0, 0, 0, 0.15);\n",
              "        filter: drop-shadow(0px 1px 2px rgba(0, 0, 0, 0.3));\n",
              "        fill: #FFFFFF;\n",
              "      }\n",
              "    </style>\n",
              "    <button class=\"colab-df-generate\" onclick=\"generateWithVariable('df')\"\n",
              "            title=\"Generate code using this dataframe.\"\n",
              "            style=\"display:none;\">\n",
              "\n",
              "  <svg xmlns=\"http://www.w3.org/2000/svg\" height=\"24px\"viewBox=\"0 0 24 24\"\n",
              "       width=\"24px\">\n",
              "    <path d=\"M7,19H8.4L18.45,9,17,7.55,7,17.6ZM5,21V16.75L18.45,3.32a2,2,0,0,1,2.83,0l1.4,1.43a1.91,1.91,0,0,1,.58,1.4,1.91,1.91,0,0,1-.58,1.4L9.25,21ZM18.45,9,17,7.55Zm-12,3A5.31,5.31,0,0,0,4.9,8.1,5.31,5.31,0,0,0,1,6.5,5.31,5.31,0,0,0,4.9,4.9,5.31,5.31,0,0,0,6.5,1,5.31,5.31,0,0,0,8.1,4.9,5.31,5.31,0,0,0,12,6.5,5.46,5.46,0,0,0,6.5,12Z\"/>\n",
              "  </svg>\n",
              "    </button>\n",
              "    <script>\n",
              "      (() => {\n",
              "      const buttonEl =\n",
              "        document.querySelector('#id_b00b0676-0756-433d-a7de-acd3f7225905 button.colab-df-generate');\n",
              "      buttonEl.style.display =\n",
              "        google.colab.kernel.accessAllowed ? 'block' : 'none';\n",
              "\n",
              "      buttonEl.onclick = () => {\n",
              "        google.colab.notebook.generateWithVariable('df');\n",
              "      }\n",
              "      })();\n",
              "    </script>\n",
              "  </div>\n",
              "\n",
              "    </div>\n",
              "  </div>\n"
            ],
            "application/vnd.google.colaboratory.intrinsic+json": {
              "type": "dataframe",
              "variable_name": "df",
              "summary": "{\n  \"name\": \"df\",\n  \"rows\": 8,\n  \"fields\": [\n    {\n      \"column\": \"f1\",\n      \"properties\": {\n        \"dtype\": \"string\",\n        \"num_unique_values\": 8,\n        \"samples\": [\n          \"1.5\",\n          \"4.0\",\n          \"2.0\"\n        ],\n        \"semantic_type\": \"\",\n        \"description\": \"\"\n      }\n    },\n    {\n      \"column\": \"f2\",\n      \"properties\": {\n        \"dtype\": \"string\",\n        \"num_unique_values\": 7,\n        \"samples\": [\n          \"3.5\",\n          \"2.5\",\n          \"2.7\"\n        ],\n        \"semantic_type\": \"\",\n        \"description\": \"\"\n      }\n    },\n    {\n      \"column\": \"class\",\n      \"properties\": {\n        \"dtype\": \"category\",\n        \"num_unique_values\": 2,\n        \"samples\": [\n          \"B\",\n          \"A\"\n        ],\n        \"semantic_type\": \"\",\n        \"description\": \"\"\n      }\n    }\n  ]\n}"
            }
          },
          "metadata": {},
          "execution_count": 2
        }
      ],
      "source": [
        "X = np.array([\n",
        "    [2.0, 3.5, 'A'],\n",
        "    [1.5, 2.5, 'A'],\n",
        "    [3.0, 4.0, 'A'],\n",
        "    [2.5, 3.8, 'A'],\n",
        "    [3.5, 2.0, 'B'],\n",
        "    [4.0, 2.7, 'B'],\n",
        "    [5.0, 3.0, 'B'],\n",
        "    [4.5, 2.5, 'B']\n",
        "])\n",
        "df = pd.DataFrame(X,columns  = ['f1','f2','class'])\n",
        "df"
      ]
    },
    {
      "cell_type": "markdown",
      "metadata": {
        "id": "LGVGh20FZLH4"
      },
      "source": [
        "The main goal of LDA is to find a lower-dimensional subspace that maximizes the separation between different classes while preserving the information that is relevant for discrimination."
      ]
    },
    {
      "cell_type": "code",
      "execution_count": null,
      "metadata": {
        "colab": {
          "base_uri": "https://localhost:8080/",
          "height": 564
        },
        "id": "0H7tDGarZLH4",
        "outputId": "9d0faf95-8097-4ab8-d3ff-1e1af7ce1cd3"
      },
      "outputs": [
        {
          "output_type": "display_data",
          "data": {
            "text/plain": [
              "<Figure size 800x600 with 1 Axes>"
            ],
            "image/png": "[encoded data removed]"
          },
          "metadata": {}
        }
      ],
      "source": [
        "# Separate features and labels\n",
        "features = X[:, :2].astype(float)\n",
        "labels = X[:, 2]\n",
        "\n",
        "# Create scatter plot\n",
        "plt.figure(figsize=(8, 6))\n",
        "\n",
        "# Plot A in blue and B in red\n",
        "plt.scatter(features[labels == 'A', 0], features[labels == 'A', 1], color='blue', label='Class A')\n",
        "plt.scatter(features[labels == 'B', 0], features[labels == 'B', 1], color='red', label='Class B')\n",
        "\n",
        "plt.title('Scatter plot of Features with Class Labels')\n",
        "plt.xlabel('Feature 1')\n",
        "plt.ylabel('Feature 2')\n",
        "plt.legend()\n",
        "plt.grid(True)\n",
        "plt.show()"
      ]
    },
    {
      "cell_type": "markdown",
      "metadata": {
        "id": "bP-KjrDoZLH5"
      },
      "source": [
        "**Why LDA**"
      ]
    },
    {
      "cell_type": "markdown",
      "metadata": {
        "id": "SxAXgeIlZLH5"
      },
      "source": [
        "LDA is supervised, meaning it requires knowledge of class labels or categories. It seeks to find the directions (linear combinations of features) in the data space that best discriminate between classes. LDA maximizes the ratio of the between-class variance to the within-class variance. It does so by finding linear combinations of features that maximize the separability between classes."
      ]
    },
    {
      "cell_type": "markdown",
      "metadata": {
        "id": "VEGercDqZLH5"
      },
      "source": [
        "However a question would be, what is LDAs difference to PCA.\n",
        "While LDA is **oriented toward classification and maximizing class separation**,\n",
        "PCA is **more general and focused on capturing data variance**"
      ]
    },
    {
      "cell_type": "markdown",
      "metadata": {
        "id": "9pffQS8bZLH5"
      },
      "source": [
        "Linear Discriminant Analysis (LDA) is a supervised dimensionality reduction technique. It is primarily used for feature selection and reducing the dimensionality of a dataset while preserving the class separability. Unlike Principal Component Analysis (PCA), which focuses on maximizing the variance in the data, LDA aims to maximize the separability between different classes in a classification problem."
      ]
    },
    {
      "cell_type": "markdown",
      "metadata": {
        "id": "N9wv09bVZLH6"
      },
      "source": [
        "**Why LDA is good**"
      ]
    },
    {
      "cell_type": "markdown",
      "metadata": {
        "id": "IbR4yDLZZLH6"
      },
      "source": [
        "There are several reasons why LDA is a powerful dimensionality reduction technique:\n",
        "\n",
        "1. Class Separation: LDA maximizes the separation between classes, making it particularly effective for classification tasks. It helps reduce the overlap between classes in the reduced-dimensional space.\n",
        "\n",
        "2. Preserves Discriminative Information: LDA focuses on retaining the features that are most relevant for distinguishing between classes, which can lead to better classification performance.\n",
        "\n",
        "3. Supervised Learning: LDA utilizes class labels to guide the dimensionality reduction process, making it suitable for tasks where class information is available."
      ]
    },
    {
      "cell_type": "markdown",
      "metadata": {
        "id": "2m2nTPA2ZLH6"
      },
      "source": [
        "**How to Use LDA**"
      ]
    },
    {
      "cell_type": "markdown",
      "metadata": {
        "id": "paNnCQJiZLH6"
      },
      "source": [
        "Using LDA for dimensionality reduction involves the following steps:\n",
        "\n",
        "1. Data Preprocessing: Prepare your dataset, ensuring it’s clean, and feature scaling may be required.\n",
        "\n",
        "2. Compute Class Means and Scatter Matrices: Calculate the mean vectors and scatter matrices for each class in the dataset.\n",
        "\n",
        "3. Compute Eigenvectors and Eigenvalues: Find the eigenvectors and eigenvalues of the generalized eigenvalue problem formed using the scatter matrices.\n",
        "\n",
        "4. Sort Eigenvalues: Sort the eigenvalues in descending order and select the top k eigenvectors corresponding to the k largest eigenvalues to form a transformation matrix.\n",
        "\n",
        "5. Project Data: Project your data onto the new k-dimensional subspace formed by the transformation matrix."
      ]
    },
    {
      "cell_type": "markdown",
      "metadata": {
        "id": "LQkYkzAkZLH7"
      },
      "source": [
        "**Advantages and Disadvantages of LDA**"
      ]
    },
    {
      "cell_type": "markdown",
      "metadata": {
        "id": "nmD6t0RHZLH7"
      },
      "source": [
        "*Advantages:*\n",
        "1. Effective for Classification: LDA is highly effective in improving the performance of classifiers since it focuses on maximizing class separability.\n",
        "\n",
        "2. Utilizes Class Information: LDA leverages class labels, which can be crucial in many real-world applications.\n",
        "\n",
        "3. Reduced Overfitting: By reducing dimensionality while retaining class-related information, LDA can help prevent overfitting.\n",
        "\n",
        "*Disadvantages:*\n",
        "1. Requires Labeled Data: LDA is a supervised method and requires class labels, which may not be available in all datasets.\n",
        "\n",
        "2. Assumes Normal Distribution: LDA assumes that the data follows a normal distribution, which might not be valid for all datasets.\n",
        "\n",
        "3. May Not Capture Non-linear Relationships: LDA is a linear method, and it may not capture complex non-linear relationships in the data."
      ]
    },
    {
      "cell_type": "markdown",
      "metadata": {
        "id": "e8lSWgzdZLH7"
      },
      "source": [
        "***Step 2: Compute Class Means***"
      ]
    },
    {
      "cell_type": "code",
      "execution_count": null,
      "metadata": {
        "colab": {
          "base_uri": "https://localhost:8080/"
        },
        "id": "g9cxwn6iZLH7",
        "outputId": "290e13d9-ef4b-43a0-f849-01c71c92d8fa"
      },
      "outputs": [
        {
          "output_type": "stream",
          "name": "stdout",
          "text": [
            "[2.  1.5 3.  2.5]\n",
            "[3.5 2.5 4.  3.8]\n"
          ]
        },
        {
          "output_type": "execute_result",
          "data": {
            "text/plain": [
              "(2.25, 3.45)"
            ]
          },
          "metadata": {},
          "execution_count": 21
        }
      ],
      "source": [
        "# Calculate the mean of Feature 1 and Feature 2 for class A\n",
        "print(features[labels == 'A', 0])\n",
        "mean_f1_class_A = features[labels == 'A', 0].mean()\n",
        "mean_f2_class_A = features[labels == 'A', 1].mean()\n",
        "print(features[labels == 'A', 1])\n",
        "mean_f1_class_A, mean_f2_class_A\n"
      ]
    },
    {
      "cell_type": "code",
      "execution_count": null,
      "metadata": {
        "colab": {
          "base_uri": "https://localhost:8080/"
        },
        "id": "fUveUyuBZLH8",
        "outputId": "12d90621-e322-4a97-86ac-32134866c3f8"
      },
      "outputs": [
        {
          "output_type": "execute_result",
          "data": {
            "text/plain": [
              "(4.25, 2.55)"
            ]
          },
          "metadata": {},
          "execution_count": 5
        }
      ],
      "source": [
        "mean_f1_class_B = features[labels == 'B', 0].mean()\n",
        "mean_f2_class_B = features[labels == 'B', 1].mean()\n",
        "\n",
        "mean_f1_class_B, mean_f2_class_B\n"
      ]
    },
    {
      "cell_type": "markdown",
      "metadata": {
        "id": "DmwBtVGMZLH8"
      },
      "source": [
        "***Step 3:Compute Within-Class Scatter Matrix (SW)***"
      ]
    },
    {
      "cell_type": "markdown",
      "metadata": {
        "id": "W1Ien72YZLH8"
      },
      "source": [
        "SW represents the within-class scatter matrix for the dataset. It measures the spread of data within each class\n",
        "\n",
        "To compute the Within-Class Scatter Matrix (SW) for the dataset , you need to calculate the covariance matrix for each class separately and then sum them up. Let’s compute SW step by step for Class A:"
      ]
    },
    {
      "cell_type": "markdown",
      "metadata": {
        "id": "12AI45kaZLH8"
      },
      "source": [
        "*1.Let’s denote the mean vector for Class A as μ_A, which we've already calculated:*"
      ]
    },
    {
      "cell_type": "code",
      "execution_count": null,
      "metadata": {
        "colab": {
          "base_uri": "https://localhost:8080/"
        },
        "id": "mIrtTtCHZLH9",
        "outputId": "131ac66f-aa74-45b1-8d3a-e12a37511cb9"
      },
      "outputs": [
        {
          "output_type": "execute_result",
          "data": {
            "text/plain": [
              "[2.25, 3.45]"
            ]
          },
          "metadata": {},
          "execution_count": 6
        }
      ],
      "source": [
        "mean_A = [mean_f1_class_A, mean_f2_class_A]\n",
        "mean_B = [mean_f1_class_B, mean_f2_class_B]\n",
        "mean_A"
      ]
    },
    {
      "cell_type": "markdown",
      "metadata": {
        "id": "UpMkK_xWZLH9"
      },
      "source": [
        "*2.Calculate the Covariance Matrix for Class A*"
      ]
    },
    {
      "cell_type": "markdown",
      "metadata": {
        "id": "Rgeuwl6fZLH9"
      },
      "source": [
        "The covariance matrix for Class A is calculated as follows:"
      ]
    },
    {
      "cell_type": "markdown",
      "metadata": {
        "id": "6NiWDpLJZLH9"
      },
      "source": [
        "**Covariance Matrix for Class A (S_A) = Σ [(x - Mean Vector for Class A) * (x - Mean Vector for Class A)^T]**"
      ]
    },
    {
      "cell_type": "code",
      "execution_count": null,
      "metadata": {
        "id": "OMnXA9ufZLH9"
      },
      "outputs": [],
      "source": [
        "features_class_A = features[labels == 'A']\n",
        "features_class_B = features[labels == 'B']"
      ]
    },
    {
      "cell_type": "code",
      "execution_count": null,
      "metadata": {
        "colab": {
          "base_uri": "https://localhost:8080/"
        },
        "id": "Mr6m7jl4ZLH-",
        "outputId": "831e8b15-c152-47de-f0b8-8af29ac6b2ee"
      },
      "outputs": [
        {
          "output_type": "stream",
          "name": "stdout",
          "text": [
            "[[2.  3.5]\n",
            " [1.5 2.5]\n",
            " [3.  4. ]\n",
            " [2.5 3.8]]\n",
            "[2.25, 3.45]\n"
          ]
        },
        {
          "output_type": "execute_result",
          "data": {
            "text/plain": [
              "array([[-0.25,  0.05],\n",
              "       [-0.75, -0.95],\n",
              "       [ 0.75,  0.55],\n",
              "       [ 0.25,  0.35]])"
            ]
          },
          "metadata": {},
          "execution_count": 8
        }
      ],
      "source": [
        "print(features_class_A)\n",
        "print(mean_A)\n",
        "diffs_A = features_class_A - mean_A\n",
        "diffs_A\n"
      ]
    },
    {
      "cell_type": "code",
      "execution_count": null,
      "metadata": {
        "colab": {
          "base_uri": "https://localhost:8080/"
        },
        "id": "gqH6oU2KZLH-",
        "outputId": "439401e2-227b-4ac8-ccdb-d66222570922"
      },
      "outputs": [
        {
          "output_type": "stream",
          "name": "stdout",
          "text": [
            "Covariance Values for Class A:\n",
            "Cov(Feature 1, Feature 1): 0.4166666666666667\n",
            "Cov(Feature 1, Feature 2): 0.39999999999999997\n",
            "Cov(Feature 2, Feature 1): 0.39999999999999997\n",
            "Cov(Feature 2, Feature 2): 0.4433333333333333\n"
          ]
        },
        {
          "output_type": "execute_result",
          "data": {
            "text/plain": [
              "matrix([[0.41666667, 0.4       ],\n",
              "        [0.4       , 0.44333333]])"
            ]
          },
          "metadata": {},
          "execution_count": 9
        }
      ],
      "source": [
        "# Calculate covariance values\n",
        "cov_feature_1_1 = np.sum(diffs_A[:, 0] * diffs_A[:, 0]) / (len(diffs_A) - 1)\n",
        "cov_feature_1_2 = np.sum(diffs_A[:, 0] * diffs_A[:, 1]) / (len(diffs_A) - 1)\n",
        "cov_feature_2_1 = cov_feature_1_2  # Symmetric\n",
        "cov_feature_2_2 = np.sum(diffs_A[:, 1] * diffs_A[:, 1]) / (len(diffs_A) - 1)\n",
        "\n",
        "# Display results\n",
        "print(\"Covariance Values for Class A:\")\n",
        "print(f\"Cov(Feature 1, Feature 1): {cov_feature_1_1}\")\n",
        "print(f\"Cov(Feature 1, Feature 2): {cov_feature_1_2}\")\n",
        "print(f\"Cov(Feature 2, Feature 1): {cov_feature_2_1}\")\n",
        "print(f\"Cov(Feature 2, Feature 2): {cov_feature_2_2}\")\n",
        "\n",
        "S_A = np.matrix([[cov_feature_1_1, cov_feature_1_2],\n",
        "                 [cov_feature_2_1, cov_feature_2_2]])\n",
        "S_A"
      ]
    },
    {
      "cell_type": "code",
      "execution_count": null,
      "metadata": {
        "colab": {
          "base_uri": "https://localhost:8080/"
        },
        "id": "KVjVBzQFZLH-",
        "outputId": "59f5a8b7-2d48-49f8-ced2-2f59c250010b"
      },
      "outputs": [
        {
          "output_type": "execute_result",
          "data": {
            "text/plain": [
              "array([[3.5, 2. ],\n",
              "       [4. , 2.7],\n",
              "       [5. , 3. ],\n",
              "       [4.5, 2.5]])"
            ]
          },
          "metadata": {},
          "execution_count": 10
        }
      ],
      "source": [
        "features_class_B"
      ]
    },
    {
      "cell_type": "code",
      "execution_count": null,
      "metadata": {
        "colab": {
          "base_uri": "https://localhost:8080/"
        },
        "id": "M2nCvClFZLH-",
        "outputId": "628517fe-f285-4734-b1c6-21d382b24baa"
      },
      "outputs": [
        {
          "output_type": "execute_result",
          "data": {
            "text/plain": [
              "[4.25, 2.55]"
            ]
          },
          "metadata": {},
          "execution_count": 11
        }
      ],
      "source": [
        "mean_B"
      ]
    },
    {
      "cell_type": "code",
      "execution_count": null,
      "metadata": {
        "colab": {
          "base_uri": "https://localhost:8080/"
        },
        "id": "XkDN7a2jZLH_",
        "outputId": "e73aac9f-9a5e-47bf-bb74-6a10fdac2cfb"
      },
      "outputs": [
        {
          "output_type": "execute_result",
          "data": {
            "text/plain": [
              "array([[-0.75, -0.55],\n",
              "       [-0.25,  0.15],\n",
              "       [ 0.75,  0.45],\n",
              "       [ 0.25, -0.05]])"
            ]
          },
          "metadata": {},
          "execution_count": 12
        }
      ],
      "source": [
        "diffs_B = features_class_B - mean_B\n",
        "diffs_B"
      ]
    },
    {
      "cell_type": "code",
      "execution_count": null,
      "metadata": {
        "colab": {
          "base_uri": "https://localhost:8080/"
        },
        "id": "9Bjkq-uMZLH_",
        "outputId": "813540df-9ed1-4e29-8e95-8d2933c5ab2c"
      },
      "outputs": [
        {
          "output_type": "stream",
          "name": "stdout",
          "text": [
            "Covariance Values for Class B:\n",
            "Cov(Feature 1, Feature 1): 0.4166666666666667\n",
            "Cov(Feature 1, Feature 2): 0.2333333333333333\n",
            "Cov(Feature 2, Feature 1): 0.2333333333333333\n",
            "Cov(Feature 2, Feature 2): 0.17666666666666667\n"
          ]
        },
        {
          "output_type": "execute_result",
          "data": {
            "text/plain": [
              "matrix([[0.41666667, 0.23333333],\n",
              "        [0.23333333, 0.17666667]])"
            ]
          },
          "metadata": {},
          "execution_count": 13
        }
      ],
      "source": [
        "\n",
        "cov_feature_B_1_1 = np.sum(diffs_B[:, 0] * diffs_B[:, 0]) / (len(diffs_B) - 1)\n",
        "cov_feature_B_1_2 = np.sum(diffs_B[:, 0] * diffs_B[:, 1]) / (len(diffs_B) - 1)\n",
        "cov_feature_B_2_1 = cov_feature_B_1_2\n",
        "cov_feature_B_2_2 = np.sum(diffs_B[:, 1] * diffs_B[:, 1]) / (len(diffs_B) - 1)\n",
        "\n",
        "print(\"Covariance Values for Class B:\")\n",
        "print(f\"Cov(Feature 1, Feature 1): {cov_feature_B_1_1}\")\n",
        "print(f\"Cov(Feature 1, Feature 2): {cov_feature_B_1_2}\")\n",
        "print(f\"Cov(Feature 2, Feature 1): {cov_feature_B_2_1}\")\n",
        "print(f\"Cov(Feature 2, Feature 2): {cov_feature_B_2_2}\")\n",
        "\n",
        "S_B = np.matrix([[cov_feature_B_1_1, cov_feature_B_1_2],\n",
        "                 [cov_feature_B_2_1, cov_feature_B_2_2]])\n",
        "S_B"
      ]
    },
    {
      "cell_type": "markdown",
      "metadata": {
        "id": "8dnMkCJaZLIA"
      },
      "source": [
        "Within-Class Scatter Matrix (SW) is calculated . It is sum the covariance matrices for both classes to obtain SW:"
      ]
    },
    {
      "cell_type": "code",
      "execution_count": null,
      "metadata": {
        "colab": {
          "base_uri": "https://localhost:8080/"
        },
        "id": "aIGz3gNuZLIA",
        "outputId": "3cd68a79-7f32-41a2-f6ed-b85bfff413ee"
      },
      "outputs": [
        {
          "output_type": "execute_result",
          "data": {
            "text/plain": [
              "matrix([[0.83333333, 0.63333333],\n",
              "        [0.63333333, 0.62      ]])"
            ]
          },
          "metadata": {},
          "execution_count": 14
        }
      ],
      "source": [
        "S_W = S_A+S_B\n",
        "S_W"
      ]
    },
    {
      "cell_type": "markdown",
      "metadata": {
        "id": "bjIpRGyUZLIA"
      },
      "source": [
        "**Step 5: Compute Eigenvalues and Eigenvectors**"
      ]
    },
    {
      "cell_type": "code",
      "execution_count": null,
      "metadata": {
        "id": "o9-uxI4FZLIA"
      },
      "outputs": [],
      "source": [
        "# Compute eigenvalues and eigenvectors\n",
        "eigenvalues, eigenvectors = np.linalg.eig(S_W)"
      ]
    },
    {
      "cell_type": "code",
      "execution_count": null,
      "metadata": {
        "colab": {
          "base_uri": "https://localhost:8080/"
        },
        "id": "zWBrPC0eZLIA",
        "outputId": "3a35ed78-7da1-471e-aa76-9bfee0589321"
      },
      "outputs": [
        {
          "output_type": "execute_result",
          "data": {
            "text/plain": [
              "array([1.36891965, 0.08441369])"
            ]
          },
          "metadata": {},
          "execution_count": 16
        }
      ],
      "source": [
        "eigenvalues"
      ]
    },
    {
      "cell_type": "code",
      "execution_count": null,
      "metadata": {
        "colab": {
          "base_uri": "https://localhost:8080/"
        },
        "id": "r_41uGFLZLIF",
        "outputId": "36291ad4-e9c6-4513-e711-7856c79ec7e7"
      },
      "outputs": [
        {
          "output_type": "execute_result",
          "data": {
            "text/plain": [
              "matrix([[ 0.76357122, -0.64572362],\n",
              "        [ 0.64572362,  0.76357122]])"
            ]
          },
          "metadata": {},
          "execution_count": 17
        }
      ],
      "source": [
        "eigenvectors"
      ]
    },
    {
      "cell_type": "code",
      "execution_count": null,
      "metadata": {
        "id": "FeVN7vptZLIF"
      },
      "outputs": [],
      "source": [
        "# Sort the eigenvalues and corresponding eigenvectors\n",
        "sorted_indices = np.argsort(eigenvalues)[::-1]  # Sort in descending order\n",
        "sorted_eigenvalues = eigenvalues[sorted_indices]\n",
        "sorted_eigenvectors = eigenvectors[:, sorted_indices]"
      ]
    },
    {
      "cell_type": "code",
      "execution_count": null,
      "metadata": {
        "colab": {
          "base_uri": "https://localhost:8080/"
        },
        "id": "tJQf6O8pZLIF",
        "outputId": "f994e93a-492e-4f22-907e-22b5d1335a71"
      },
      "outputs": [
        {
          "output_type": "execute_result",
          "data": {
            "text/plain": [
              "matrix([[ 0.76357122, -0.64572362],\n",
              "        [ 0.64572362,  0.76357122]])"
            ]
          },
          "metadata": {},
          "execution_count": 19
        }
      ],
      "source": [
        "# Select the top k eigenvalues (e.g., k = 2 for plotting)\n",
        "k = len(sorted_eigenvalues)  # Change this to the desired number of eigenvalues to plot\n",
        "selected_eigenvalues = sorted_eigenvalues[:k]\n",
        "selected_eigenvectors = sorted_eigenvectors[:, :k]\n",
        "selected_eigenvectors\n"
      ]
    },
    {
      "cell_type": "code",
      "execution_count": null,
      "metadata": {
        "colab": {
          "base_uri": "https://localhost:8080/",
          "height": 713
        },
        "id": "IDh-g-ykZLIG",
        "outputId": "c74b0cb5-e0ef-4999-badc-2d64cd4bf672"
      },
      "outputs": [
        {
          "output_type": "stream",
          "name": "stdout",
          "text": [
            "Projected Data onto Lower-Dimensional Space:\n",
            "[[ 3.78717511  1.38105202]\n",
            " [ 2.75966588  0.94034262]\n",
            " [ 4.87360814  1.11711401]\n",
            " [ 4.3626778   1.28726158]\n",
            " [ 3.96394651 -0.73289024]\n",
            " [ 4.79773865 -0.52125219]\n",
            " [ 5.75502695 -0.93790445]\n",
            " [ 5.05037953 -0.99682825]]\n",
            "[[ 3.96394651 -0.73289024]\n",
            " [ 4.79773865 -0.52125219]\n",
            " [ 5.75502695 -0.93790445]\n",
            " [ 5.05037953 -0.99682825]]\n"
          ]
        },
        {
          "output_type": "display_data",
          "data": {
            "text/plain": [
              "<Figure size 800x500 with 1 Axes>"
            ],
            "image/png": "[encoded data removed]"
          },
          "metadata": {}
        }
      ],
      "source": [
        "# Project the original data onto the new lower-dimensional space\n",
        "class_a_samples = X[X[:, 2] == 'A'][:, :2].astype(float)\n",
        "class_b_samples = X[X[:, 2] == 'B'][:, :2].astype(float)\n",
        "\n",
        "# Combine class samples for projection\n",
        "combined_samples = np.vstack((class_a_samples, class_b_samples))\n",
        "\n",
        "# Project the combined samples onto the new space defined by the selected eigenvectors\n",
        "projected_data_X = combined_samples @ selected_eigenvectors\n",
        "projected_data = np.array(projected_data_X)\n",
        "# Display the projected data\n",
        "print(\"Projected Data onto Lower-Dimensional Space:\")\n",
        "print(projected_data)\n",
        "projected_data = projected_data[-4:]\n",
        "print(projected_data)\n",
        "\n",
        "plt.figure(figsize=(8, 5))\n",
        "plt.scatter(projected_data[:, 0], projected_data[:, 1], color='purple', alpha=0.7)\n",
        "plt.title('Projected Data onto Lower-Dimensional Space (Without Class Labels)')\n",
        "plt.xlabel('Eigenvector 1')\n",
        "plt.ylabel('Eigenvector 2')\n",
        "plt.axhline(0, color='black', linewidth=0.5, linestyle='--')\n",
        "plt.axvline(0, color='black', linewidth=0.5, linestyle='--')\n",
        "plt.grid()\n",
        "plt.show()"
      ]
    }
  ],
  "metadata": {
    "kernelspec": {
      "display_name": "Python 3",
      "language": "python",
      "name": "python3"
    },
    "language_info": {
      "codemirror_mode": {
        "name": "ipython",
        "version": 3
      },
      "file_extension": ".py",
      "mimetype": "text/x-python",
      "name": "python",
      "nbconvert_exporter": "python",
      "pygments_lexer": "ipython3",
      "version": "3.10.8"
    },
    "colab": {
      "provenance": [],
      "include_colab_link": true
    }
  },
  "nbformat": 4,
  "nbformat_minor": 0
}