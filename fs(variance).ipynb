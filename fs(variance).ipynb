{
  "nbformat": 4,
  "nbformat_minor": 0,
  "metadata": {
    "colab": {
      "provenance": [],
      "mount_file_id": "1mJ83N4RRjrV9oSEABYYu8QH86fmCJvoG",
      "authorship_tag": "ABX9TyN+tEe5qHSVZ6DRFOMqGiKM",
      "include_colab_link": true
    },
    "kernelspec": {
      "name": "python3",
      "display_name": "Python 3"
    },
    "language_info": {
      "name": "python"
    }
  },
  "cells": [
    {
      "cell_type": "markdown",
      "metadata": {
        "id": "view-in-github",
        "colab_type": "text"
      },
      "source": [
        "<a href=\"https://colab.research.google.com/github/gnaneswar-18/machine-learning/blob/main/fs(variance).ipynb\" target=\"_parent\"><img src=\"https://colab.research.google.com/assets/colab-badge.svg\" alt=\"Open In Colab\"/></a>"
      ]
    },
    {
      "cell_type": "code",
      "execution_count": null,
      "metadata": {
        "colab": {
          "base_uri": "https://localhost:8080/"
        },
        "id": "0kjRmTf36sRA",
        "outputId": "c7d2ea7a-9faa-4dbe-b699-18f30c852a03"
      },
      "outputs": [
        {
          "output_type": "stream",
          "name": "stdout",
          "text": [
            "(768, 8)\n",
            "0       6\n",
            "1       1\n",
            "2       8\n",
            "3       1\n",
            "4       0\n",
            "       ..\n",
            "763    10\n",
            "764     2\n",
            "765     5\n",
            "766     1\n",
            "767     1\n",
            "Name: Pregnancies, Length: 768, dtype: int64\n"
          ]
        }
      ],
      "source": [
        "import pandas as pd\n",
        "data=pd.read_csv('/content/drive/MyDrive/Colab Notebooks/labs/diabetes.csv')\n",
        "# print(data.columns)\n",
        "x=data.drop(['Outcome'],axis=1)\n",
        "print(x.shape)\n",
        "# print(x.columns)\n",
        "y=data['Outcome']"
      ]
    },
    {
      "cell_type": "code",
      "source": [
        "import numpy as np;\n",
        "var=np.var(x,axis=1)\n",
        "\n",
        "print(var)\n",
        "var=np.var(x,axis=0)\n",
        "print(var)"
      ],
      "metadata": {
        "colab": {
          "base_uri": "https://localhost:8080/"
        },
        "id": "3xBZR1va7GJ8",
        "outputId": "5be62c59-d499-4dfa-fc13-ecb10f7f06b5"
      },
      "execution_count": null,
      "outputs": [
        {
          "output_type": "stream",
          "name": "stdout",
          "text": [
            "0      2135.080367\n",
            "1       869.310706\n",
            "2      3391.049186\n",
            "3      1236.454435\n",
            "4      3313.112516\n",
            "          ...     \n",
            "763    2897.905420\n",
            "764    1554.656644\n",
            "765    1943.884253\n",
            "766    1731.309075\n",
            "767    1028.983165\n",
            "Length: 768, dtype: float64\n",
            "Pregnancies                    11.339272\n",
            "Glucose                      1020.917262\n",
            "BloodPressure                 374.159449\n",
            "SkinThickness                 254.141900\n",
            "Insulin                     13263.886875\n",
            "BMI                            62.079046\n",
            "DiabetesPedigreeFunction        0.109636\n",
            "Age                           138.122964\n",
            "dtype: float64\n"
          ]
        }
      ]
    },
    {
      "cell_type": "code",
      "source": [
        "columns_selected=var[var>30]\n",
        "print(columns_selected)\n",
        "xu=x[columns_selected.index]\n",
        "print(xu.shape)"
      ],
      "metadata": {
        "colab": {
          "base_uri": "https://localhost:8080/"
        },
        "id": "s-skCPMw7HgK",
        "outputId": "5167cc67-145d-43a5-d5b2-fa7191924ff2"
      },
      "execution_count": null,
      "outputs": [
        {
          "output_type": "stream",
          "name": "stdout",
          "text": [
            "Glucose           1020.917262\n",
            "BloodPressure      374.159449\n",
            "SkinThickness      254.141900\n",
            "Insulin          13263.886875\n",
            "BMI                 62.079046\n",
            "Age                138.122964\n",
            "dtype: float64\n",
            "(768, 6)\n"
          ]
        }
      ]
    },
    {
      "cell_type": "code",
      "source": [
        "from sklearn.model_selection import train_test_split\n",
        "from sklearn.tree import DecisionTreeClassifier\n",
        "from sklearn.metrics import accuracy_score\n",
        "model = DecisionTreeClassifier(random_state=42)\n",
        "x_train,x_test,y_train,y_test=train_test_split(x,y,test_size=0.3,random_state=42)\n",
        "model.fit(x_train,y_train)\n",
        "y_pred=model.predict(x_test)\n",
        "print(\"accuracy for all features\",accuracy_score(y_test,y_pred))\n",
        "\n",
        "xu_train,xu_test,yu_train,yu_test=train_test_split(xu,y,test_size=0.3,random_state=42)\n",
        "model.fit(xu_train,yu_train)\n",
        "yu_pred=model.predict(xu_test)\n",
        "print(\"accuracy for selected features\",accuracy_score(yu_test,yu_pred))"
      ],
      "metadata": {
        "colab": {
          "base_uri": "https://localhost:8080/"
        },
        "id": "lQluPPg78WoH",
        "outputId": "e69df218-5941-4013-edf8-2661f2353882"
      },
      "execution_count": null,
      "outputs": [
        {
          "output_type": "stream",
          "name": "stdout",
          "text": [
            "accuracy for all features 0.7012987012987013\n",
            "accuracy for selected features 0.7012987012987013\n"
          ]
        }
      ]
    }
  ]
}