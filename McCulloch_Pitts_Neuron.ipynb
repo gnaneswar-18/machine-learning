{
  "nbformat": 4,
  "nbformat_minor": 0,
  "metadata": {
    "colab": {
      "provenance": [],
      "authorship_tag": "ABX9TyPiy3ijIQf+pCfMeE8p3LPp",
      "include_colab_link": true
    },
    "kernelspec": {
      "name": "python3",
      "display_name": "Python 3"
    },
    "language_info": {
      "name": "python"
    }
  },
  "cells": [
    {
      "cell_type": "markdown",
      "metadata": {
        "id": "view-in-github",
        "colab_type": "text"
      },
      "source": [
        "<a href=\"https://colab.research.google.com/github/gnaneswar-18/machine-learning/blob/main/McCulloch_Pitts_Neuron.ipynb\" target=\"_parent\"><img src=\"https://colab.research.google.com/assets/colab-badge.svg\" alt=\"Open In Colab\"/></a>"
      ]
    },
    {
      "cell_type": "code",
      "execution_count": null,
      "metadata": {
        "colab": {
          "base_uri": "https://localhost:8080/"
        },
        "id": "EVpWlVdcJfXx",
        "outputId": "5385638f-d8a9-4358-fd88-f41b69c68e81"
      },
      "outputs": [
        {
          "output_type": "stream",
          "name": "stdout",
          "text": [
            "and gate - weights: [0.06505159 0.94888554] threshold: 0.9656320330745594\n",
            "or gate - weights: [0.80839735 0.30461377] threshold: 0.09767211400638387\n",
            "not gate - weights: [-0.11576697] threshold: -0.0598475062603987\n",
            "nand gate - weights: [-0.07796177 -0.20482309] threshold: -0.26561147888478165\n",
            "nor gate - weights: [-0.0906796  -0.14122002] threshold: -0.037477715646017956\n",
            "and(1, 1): 1\n",
            "and(1, 0): 0\n",
            "or(1, 0): 1\n",
            "or(0, 0): 0\n",
            "not(1): 0\n",
            "not(0): 1\n",
            "nand(1, 1): 0\n",
            "nand(1, 0): 1\n",
            "nor(0, 0): 1\n",
            "nor(1, 0): 0\n"
          ]
        }
      ],
      "source": [
        "import numpy as np\n",
        "\n",
        "def train_perceptron(training_data, epochs=10000, lr=0.1):\n",
        "    num_inputs = len(training_data[0][0])\n",
        "    w = np.random.rand(num_inputs)\n",
        "    t = np.random.rand()\n",
        "\n",
        "    for epoch in range(epochs):\n",
        "        for inputs, expected_output in training_data:\n",
        "            weighted_sum = np.dot(inputs, w) - t\n",
        "            output = 1 if weighted_sum >= 0 else 0\n",
        "            error = expected_output - output\n",
        "            w += lr * error * np.array(inputs)\n",
        "            t -= lr * error\n",
        "\n",
        "    return w, t\n",
        "\n",
        "\n",
        "and_data = [\n",
        "    ([1, 1], 1),\n",
        "    ([1, 0], 0),\n",
        "    ([0, 1], 0),\n",
        "    ([0, 0], 0)\n",
        "]\n",
        "\n",
        "or_data = [\n",
        "    ([1, 1], 1),\n",
        "    ([1, 0], 1),\n",
        "    ([0, 1], 1),\n",
        "    ([0, 0], 0)\n",
        "]\n",
        "\n",
        "not_data = [\n",
        "    ([1], 0),\n",
        "    ([0], 1)\n",
        "]\n",
        "\n",
        "nand_data = [\n",
        "    ([1, 1], 0),\n",
        "    ([1, 0], 1),\n",
        "    ([0, 1], 1),\n",
        "    ([0, 0], 1)\n",
        "]\n",
        "\n",
        "nor_data = [\n",
        "    ([1, 1], 0),\n",
        "    ([1, 0], 0),\n",
        "    ([0, 1], 0),\n",
        "    ([0, 0], 1)\n",
        "]\n",
        "\n",
        "\n",
        "and_w, and_t = train_perceptron(and_data)\n",
        "or_w, or_t = train_perceptron(or_data)\n",
        "not_w, not_t = train_perceptron(not_data)\n",
        "nand_w, nand_t = train_perceptron(nand_data)\n",
        "nor_w, nor_t = train_perceptron(nor_data)\n",
        "\n",
        "print(\"and gate - weights:\", and_w, \"threshold:\", and_t)\n",
        "print(\"or gate - weights:\", or_w, \"threshold:\", or_t)\n",
        "print(\"not gate - weights:\", not_w, \"threshold:\", not_t)\n",
        "print(\"nand gate - weights:\", nand_w, \"threshold:\", nand_t)\n",
        "print(\"nor gate - weights:\", nor_w, \"threshold:\", nor_t)\n",
        "\n",
        "def perceptron_output(inputs, w, t):\n",
        "    weighted_sum = np.dot(inputs, w) - t\n",
        "    return 1 if weighted_sum >= 0 else 0\n",
        "\n",
        "print(\"and(1, 1):\", perceptron_output([1, 1], and_w, and_t))\n",
        "print(\"and(1, 0):\", perceptron_output([1, 0], and_w, and_t))\n",
        "print(\"or(1, 0):\", perceptron_output([1, 0], or_w, or_t))\n",
        "print(\"or(0, 0):\", perceptron_output([0, 0], or_w, or_t))\n",
        "print(\"not(1):\", perceptron_output([1], not_w, not_t))\n",
        "print(\"not(0):\", perceptron_output([0], not_w, not_t))\n",
        "print(\"nand(1, 1):\", perceptron_output([1, 1], nand_w, nand_t))\n",
        "print(\"nand(1, 0):\", perceptron_output([1, 0], nand_w, nand_t))\n",
        "print(\"nor(0, 0):\", perceptron_output([0, 0], nor_w, nor_t))\n",
        "print(\"nor(1, 0):\", perceptron_output([1, 0], nor_w, nor_t))\n",
        "\n",
        "\n"
      ]
    },
    {
      "cell_type": "code",
      "source": [
        "\n",
        "def xor(x1, x2):\n",
        "    or_out = 1 if np.dot([x1, x2], or_w) >= or_t else 0\n",
        "    nand_out = 1 if np.dot([x1, x2], nand_w) >= nand_t else 0\n",
        "    xor_out = 1 if np.dot([or_out, nand_out], and_w) >= and_t else 0\n",
        "    return xor_out\n",
        "\n",
        "print(\"\\ntesting xor gate with calculated weights and thresholds:\")\n",
        "print(\"xor(0, 0):\", xor(0, 0))\n",
        "print(\"xor(0, 1):\", xor(0, 1))\n",
        "print(\"xor(1, 0):\", xor(1, 0))\n",
        "print(\"xor(1, 1):\", xor(1, 1))"
      ],
      "metadata": {
        "colab": {
          "base_uri": "https://localhost:8080/"
        },
        "id": "ipDUbc5lMtlY",
        "outputId": "c676e1e6-307a-4425-ce4a-5483c689f544"
      },
      "execution_count": null,
      "outputs": [
        {
          "output_type": "stream",
          "name": "stdout",
          "text": [
            "\n",
            "testing xor gate with calculated weights and thresholds:\n",
            "xor(0, 0): 0\n",
            "xor(0, 1): 1\n",
            "xor(1, 0): 1\n",
            "xor(1, 1): 0\n"
          ]
        }
      ]
    }
  ]
}